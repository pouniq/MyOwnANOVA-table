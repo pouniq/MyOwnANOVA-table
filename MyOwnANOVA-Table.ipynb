{
 "cells": [
  {
   "cell_type": "code",
   "execution_count": 1,
   "id": "8ec67b60-3dd8-470e-933a-02e37978fdd9",
   "metadata": {},
   "outputs": [],
   "source": [
    "y = [12,12,12,19,15,24,25]\n",
    "x = [3,2,1,4,2,6,8]"
   ]
  },
  {
   "cell_type": "code",
   "execution_count": 2,
   "id": "68881738-3f2d-4fa0-b1c3-c6804069d4b0",
   "metadata": {},
   "outputs": [
    {
     "name": "stdout",
     "output_type": "stream",
     "text": [
      "119\n"
     ]
    }
   ],
   "source": [
    "# sum of y\n",
    "k = 0\n",
    "for i in y:\n",
    "    k += i\n",
    "    \n",
    "# sum of x\n",
    "l = 0\n",
    "for i in x:\n",
    "    l += i\n",
    "\n",
    "\n",
    "kk = 0\n",
    "for i in y:\n",
    "    kk += i**2\n",
    "\n",
    "\n",
    "ll = 0\n",
    "for i in x:\n",
    "    ll += i**2\n",
    "\n",
    "\n",
    "result = [y[i] * x[i] for i in range(len(y))]    \n",
    "coresponding = sum(result)\n",
    "\n",
    "\n",
    "Xmean = l / len(x)\n",
    "Ymean = k / len(y)\n",
    "\n",
    "\n",
    "Sxy = coresponding - (len(x) * Xmean * Ymean)\n",
    "Sxx = ll - (len(x) * (Xmean**2))\n",
    "\n",
    "\n",
    "B1 = Sxy / Sxx\n",
    "SSR = (B1 ** 2) * Sxx\n",
    "B0 = Ymean - B1*Xmean\n",
    "SST = kk - len(y)*(Ymean**2)\n",
    "SSE = SST - SSR\n",
    "\n",
    "dfT = len(x) - 1 \n",
    "dfE = len(x) - 2\n",
    "dfR = dfT - dfE\n",
    "\n",
    "MSR = SSR / dfR\n",
    "MSE = SSE / dfE\n",
    "MST = SST / dfT\n",
    "\n",
    "\n",
    "Fisher = MSR / MSE \n"
   ]
  },
  {
   "cell_type": "code",
   "execution_count": 40,
   "id": "8aadc331-2220-4941-ad1c-0298c5ff4dca",
   "metadata": {},
   "outputs": [],
   "source": [
    "import pandas as pd"
   ]
  },
  {
   "cell_type": "code",
   "execution_count": null,
   "id": "a90527a7-8f5e-4d1a-ad36-a2b6bc6a1e22",
   "metadata": {},
   "outputs": [],
   "source": []
  },
  {
   "cell_type": "code",
   "execution_count": null,
   "id": "d98d093d-bb76-43bb-99ec-8c964f190aa4",
   "metadata": {},
   "outputs": [],
   "source": []
  }
 ],
 "metadata": {
  "kernelspec": {
   "display_name": "Python 3 (ipykernel)",
   "language": "python",
   "name": "python3"
  },
  "language_info": {
   "codemirror_mode": {
    "name": "ipython",
    "version": 3
   },
   "file_extension": ".py",
   "mimetype": "text/x-python",
   "name": "python",
   "nbconvert_exporter": "python",
   "pygments_lexer": "ipython3",
   "version": "3.11.8"
  }
 },
 "nbformat": 4,
 "nbformat_minor": 5
}
